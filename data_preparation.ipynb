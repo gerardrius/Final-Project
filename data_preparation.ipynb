{
 "cells": [
  {
   "cell_type": "code",
   "execution_count": 120,
   "metadata": {},
   "outputs": [],
   "source": [
    "import pandas as pd\n",
    "import seaborn as sns\n",
    "\n",
    "import src.cleaning as cleaning"
   ]
  },
  {
   "cell_type": "code",
   "execution_count": 111,
   "metadata": {},
   "outputs": [],
   "source": [
    "# Import monthly trips data: \n",
    "january_trips = pd.read_csv('data/JC-202201-citibike-tripdata.csv')\n",
    "february_trips = pd.read_csv('data/JC-202202-citibike-tripdata.csv')\n",
    "march_trips = pd.read_csv('data/JC-202203-citibike-tripdata.csv')\n",
    "april_trips = pd.read_csv('data/JC-202204-citibike-tripdata.csv')\n",
    "may_trips = pd.read_csv('data/JC-202205-citibike-tripdata.csv')\n",
    "june_trips = pd.read_csv('data/JC-202206-citibike-tripdata.csv')\n",
    "july_trips = pd.read_csv('data/JC-202207-citbike-tripdata.csv')\n",
    "august_trips = pd.read_csv('data/JC-202208-citibike-tripdata.csv')\n",
    "september_trips = pd.read_csv('data/JC-202209-citibike-tripdata.csv')\n",
    "october_trips = pd.read_csv('data/JC-202210-citibike-tripdata.csv')\n",
    "november_trips = pd.read_csv('data/JC-202211-citibike-tripdata.csv')\n",
    "december_trips = pd.read_csv('data/JC-202212-citibike-tripdata.csv')"
   ]
  },
  {
   "cell_type": "code",
   "execution_count": 122,
   "metadata": {},
   "outputs": [],
   "source": [
    "# Add trip distance column month by month (for easier debug):\n",
    "january_trips = cleaning.trip_distance (january_trips)\n",
    "february_trips = cleaning.trip_distance (february_trips)\n",
    "march_trips = cleaning.trip_distance (march_trips)"
   ]
  },
  {
   "cell_type": "code",
   "execution_count": 123,
   "metadata": {},
   "outputs": [],
   "source": [
    "april_trips = cleaning.trip_distance (april_trips)\n",
    "may_trips = cleaning.trip_distance (may_trips)\n",
    "june_trips = cleaning.trip_distance (june_trips)"
   ]
  },
  {
   "cell_type": "code",
   "execution_count": 124,
   "metadata": {},
   "outputs": [],
   "source": [
    "july_trips = cleaning.trip_distance (july_trips)\n",
    "august_trips = cleaning.trip_distance (august_trips)\n",
    "september_trips = cleaning.trip_distance (september_trips)"
   ]
  },
  {
   "cell_type": "code",
   "execution_count": 125,
   "metadata": {},
   "outputs": [],
   "source": [
    "october_trips = cleaning.trip_distance (october_trips)\n",
    "november_trips = cleaning.trip_distance (november_trips)\n",
    "december_trips = cleaning.trip_distance (december_trips)"
   ]
  },
  {
   "cell_type": "code",
   "execution_count": null,
   "metadata": {},
   "outputs": [],
   "source": [
    "# Add trip duration distance:"
   ]
  },
  {
   "cell_type": "code",
   "execution_count": null,
   "metadata": {},
   "outputs": [],
   "source": []
  },
  {
   "cell_type": "code",
   "execution_count": null,
   "metadata": {},
   "outputs": [],
   "source": [
    "dataframes = [january_trips, february_trips, march_trips, april_trips, may_trips, june_trips, july_trips, august_trips, september_trips, october_trips, november_trips, december_trips]\n",
    "bike_trips = pd.concat(dataframes)"
   ]
  },
  {
   "cell_type": "code",
   "execution_count": null,
   "metadata": {},
   "outputs": [],
   "source": []
  },
  {
   "cell_type": "code",
   "execution_count": null,
   "metadata": {},
   "outputs": [],
   "source": []
  }
 ],
 "metadata": {
  "kernelspec": {
   "display_name": "ironhack",
   "language": "python",
   "name": "python3"
  },
  "language_info": {
   "codemirror_mode": {
    "name": "ipython",
    "version": 3
   },
   "file_extension": ".py",
   "mimetype": "text/x-python",
   "name": "python",
   "nbconvert_exporter": "python",
   "pygments_lexer": "ipython3",
   "version": "3.9.12 (main, Jun  1 2022, 06:36:29) \n[Clang 12.0.0 ]"
  },
  "orig_nbformat": 4,
  "vscode": {
   "interpreter": {
    "hash": "79e8e12960902be9b96136e06f35e6a59d5d8c359e0492f5e08d8a671bbdf383"
   }
  }
 },
 "nbformat": 4,
 "nbformat_minor": 2
}
